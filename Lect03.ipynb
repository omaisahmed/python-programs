{
 "cells": [
  {
   "cell_type": "code",
   "execution_count": 3,
   "metadata": {},
   "outputs": [
    {
     "name": "stdout",
     "output_type": "stream",
     "text": [
      "*\n",
      "**\n",
      "***\n",
      "****\n"
     ]
    }
   ],
   "source": [
    "for i in range(1,5):\n",
    "    for j in range(i):\n",
    "        print(\"*\",end=\"\")\n",
    "    print()    "
   ]
  },
  {
   "cell_type": "code",
   "execution_count": 1,
   "metadata": {},
   "outputs": [
    {
     "name": "stdout",
     "output_type": "stream",
     "text": [
      "1 \n",
      "2 3 \n",
      "4 5 6 \n",
      "7 8 9 10 \n",
      "11 12 13 14 15 \n",
      "16 17 18 19 20 21 \n"
     ]
    }
   ],
   "source": [
    "a= 1\n",
    "for i in range(1,7):\n",
    "    for j in range(i):\n",
    "        print(a,end=\" \")\n",
    "        a+=1\n",
    "    print()\n",
    "    "
   ]
  },
  {
   "cell_type": "code",
   "execution_count": 7,
   "metadata": {},
   "outputs": [
    {
     "name": "stdout",
     "output_type": "stream",
     "text": [
      "Ali\n"
     ]
    }
   ],
   "source": [
    "name = \"ali\"\n",
    "print(name.capitalize())"
   ]
  },
  {
   "cell_type": "code",
   "execution_count": 9,
   "metadata": {},
   "outputs": [
    {
     "name": "stdout",
     "output_type": "stream",
     "text": [
      "sameer\n"
     ]
    }
   ],
   "source": [
    "name = \"sAmEer\"\n",
    "print(name.casefold())"
   ]
  },
  {
   "cell_type": "code",
   "execution_count": 11,
   "metadata": {},
   "outputs": [
    {
     "name": "stdout",
     "output_type": "stream",
     "text": [
      "       nabeel       \n"
     ]
    }
   ],
   "source": [
    "name = \"nabeel\"\n",
    "print(name.center(20))"
   ]
  },
  {
   "cell_type": "code",
   "execution_count": 14,
   "metadata": {},
   "outputs": [
    {
     "name": "stdout",
     "output_type": "stream",
     "text": [
      "81 97 115 105 109\n"
     ]
    }
   ],
   "source": [
    "name = \"Qasim\"\n",
    "print(*name.encode(\"utf-8\"))"
   ]
  },
  {
   "cell_type": "code",
   "execution_count": 16,
   "metadata": {},
   "outputs": [
    {
     "name": "stdout",
     "output_type": "stream",
     "text": [
      "\n",
      "Name : ABC\n",
      "Father's Name : XYZ\n",
      "Course : Python\n",
      "\n"
     ]
    }
   ],
   "source": [
    "var = \"\"\"\n",
    "Name : {}\n",
    "Father's Name : {}\n",
    "Course : {}\n",
    "\"\"\"\n",
    "print(var.format(\"ABC\",\"XYZ\",\"Python\"))"
   ]
  },
  {
   "cell_type": "code",
   "execution_count": 19,
   "metadata": {},
   "outputs": [
    {
     "name": "stdout",
     "output_type": "stream",
     "text": [
      "SAMEER42MS\n"
     ]
    }
   ],
   "source": [
    "email = \"SamEer42ms\"\n",
    "print(email.upper())"
   ]
  },
  {
   "cell_type": "code",
   "execution_count": 35,
   "metadata": {},
   "outputs": [
    {
     "name": "stdout",
     "output_type": "stream",
     "text": [
      "{1.5: '598', 'Name': 'ABC', 'Grade': 'AB'}\n"
     ]
    }
   ],
   "source": [
    "emp = {\n",
    "    1.5 : \"598\",\n",
    "    \"Name\" : 2\n",
    "}\n",
    "emp[\"Grade\"] = \"AB\"\n",
    "emp[\"Name\"] = \"ABC\"\n",
    "print(emp)"
   ]
  },
  {
   "cell_type": "code",
   "execution_count": 39,
   "metadata": {},
   "outputs": [
    {
     "name": "stdout",
     "output_type": "stream",
     "text": [
      "[{1.5: '598', 'Name': 2}, {1: '599', 'Name': 3}]\n"
     ]
    }
   ],
   "source": [
    "li = []\n",
    "d1 = {\n",
    "     1.5 : \"598\",\n",
    "    \"Name\" : 2\n",
    "}\n",
    "d2 = {\n",
    "     1 : \"599\",\n",
    "    \"Name\" : 3\n",
    "}\n",
    "li.append(d1)\n",
    "li.append(d2)\n",
    "print(li)"
   ]
  },
  {
   "cell_type": "code",
   "execution_count": 40,
   "metadata": {},
   "outputs": [
    {
     "name": "stdout",
     "output_type": "stream",
     "text": [
      "1.5 : 598\n",
      "Name : 2\n",
      "\n",
      "1 : 599\n",
      "Name : 3\n",
      "\n"
     ]
    }
   ],
   "source": [
    "for i in range(len(li)):\n",
    "    for j,k in li[i].items():\n",
    "        print(j,\":\",k)\n",
    "    print()"
   ]
  },
  {
   "cell_type": "code",
   "execution_count": 41,
   "metadata": {},
   "outputs": [
    {
     "name": "stdout",
     "output_type": "stream",
     "text": [
      "598\n"
     ]
    }
   ],
   "source": [
    "print(li[0][1.5])"
   ]
  },
  {
   "cell_type": "code",
   "execution_count": 42,
   "metadata": {},
   "outputs": [
    {
     "name": "stdout",
     "output_type": "stream",
     "text": [
      "{'name': ['Sameer', 'nabeel']}\n"
     ]
    }
   ],
   "source": [
    "d = {\n",
    "    \"name\" : [\"Sameer\",\"nabeel\"]\n",
    "}\n",
    "print(d)"
   ]
  },
  {
   "cell_type": "code",
   "execution_count": 43,
   "metadata": {},
   "outputs": [
    {
     "data": {
      "text/plain": [
       "['Sameer', 'nabeel']"
      ]
     },
     "execution_count": 43,
     "metadata": {},
     "output_type": "execute_result"
    }
   ],
   "source": [
    "d[\"name\"]"
   ]
  },
  {
   "cell_type": "code",
   "execution_count": 45,
   "metadata": {},
   "outputs": [
    {
     "name": "stdout",
     "output_type": "stream",
     "text": [
      "{1: {1.5: '598', 'Name': 2}, 2: {1.5: '598', 'Name': 2}}\n"
     ]
    }
   ],
   "source": [
    "d ={\n",
    "    1:{\n",
    "    1.5 : \"598\",\n",
    "    \"Name\" : 2,\n",
    "    },\n",
    "   2: {\n",
    "    1.5 : \"598\",\n",
    "    \"Name\" : 2\n",
    "    }\n",
    "}\n",
    "print(d)"
   ]
  },
  {
   "cell_type": "code",
   "execution_count": 46,
   "metadata": {},
   "outputs": [
    {
     "name": "stdout",
     "output_type": "stream",
     "text": [
      "1.5 : 598\n",
      "Name : 2\n",
      "\n",
      "1.5 : 598\n",
      "Name : 2\n",
      "\n"
     ]
    }
   ],
   "source": [
    "for i in d:\n",
    "    for j,k in d[i].items():\n",
    "        print(j,\":\",k)\n",
    "    print()"
   ]
  },
  {
   "cell_type": "code",
   "execution_count": null,
   "metadata": {},
   "outputs": [],
   "source": []
  }
 ],
 "metadata": {
  "kernelspec": {
   "display_name": "Python 3",
   "language": "python",
   "name": "python3"
  },
  "language_info": {
   "codemirror_mode": {
    "name": "ipython",
    "version": 3
   },
   "file_extension": ".py",
   "mimetype": "text/x-python",
   "name": "python",
   "nbconvert_exporter": "python",
   "pygments_lexer": "ipython3",
   "version": "3.6.5"
  }
 },
 "nbformat": 4,
 "nbformat_minor": 2
}
