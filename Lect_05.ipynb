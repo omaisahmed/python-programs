{
 "cells": [
  {
   "cell_type": "code",
   "execution_count": 1,
   "metadata": {},
   "outputs": [
    {
     "name": "stdout",
     "output_type": "stream",
     "text": [
      "Enter city to searchKarachi\n",
      "City Found\n",
      "Enter city to searchq\n"
     ]
    }
   ],
   "source": [
    "a = True\n",
    "li = [\"Karachi\",\"Lahore\",\"Multan\",\"Peshawar\"]\n",
    "while a == True:\n",
    "    var = input(\"Enter city to search\")\n",
    "    if var != 'q':\n",
    "        for i in li:\n",
    "            if var == i:\n",
    "                print(\"City Found\")\n",
    "                break\n",
    "        else:\n",
    "            print(\"Not Found\")\n",
    "    else:\n",
    "        a = False\n",
    "    "
   ]
  },
  {
   "cell_type": "raw",
   "metadata": {},
   "source": [
    "1.class\n",
    "2.object\n",
    "3.Method\n",
    "4.Attributes/Properties\n",
    "5.class variable\n",
    "6.instance variable\n",
    "7.inheritance\n",
    "8.encapsulation\n",
    "9.Abstraction\n",
    "10.Polymorphism"
   ]
  },
  {
   "cell_type": "code",
   "execution_count": 2,
   "metadata": {},
   "outputs": [],
   "source": [
    "class Person():\n",
    "    def __init__(b,name,fname):\n",
    "        b.name = name\n",
    "        b.fname = fname\n",
    "    def printt(b):\n",
    "        print(b.name,b.fname)\n",
    "a = Person(\"Abc\",\"Xyz\")\n"
   ]
  },
  {
   "cell_type": "code",
   "execution_count": 3,
   "metadata": {},
   "outputs": [
    {
     "data": {
      "text/plain": [
       "'Xyz'"
      ]
     },
     "execution_count": 3,
     "metadata": {},
     "output_type": "execute_result"
    }
   ],
   "source": [
    "a.fname"
   ]
  },
  {
   "cell_type": "code",
   "execution_count": 4,
   "metadata": {},
   "outputs": [
    {
     "name": "stdout",
     "output_type": "stream",
     "text": [
      "Abc Xyz\n"
     ]
    }
   ],
   "source": [
    "a.printt()"
   ]
  },
  {
   "cell_type": "code",
   "execution_count": 9,
   "metadata": {},
   "outputs": [],
   "source": [
    "# Inheritance\n",
    "class Person():\n",
    "    def __init__(b,name,fname):\n",
    "        b.name = name\n",
    "        b.fname = fname\n",
    "    def printt(b):\n",
    "        print(b.name,b.fname)\n",
    "class Emp(Person):\n",
    "    def __init__(b,name,fname,age):\n",
    "        super().__init__(name,fname)\n",
    "        b.age = age\n",
    "    def printt(b):\n",
    "        print(b.name, b.fname, b.age)\n"
   ]
  },
  {
   "cell_type": "code",
   "execution_count": 10,
   "metadata": {},
   "outputs": [
    {
     "name": "stdout",
     "output_type": "stream",
     "text": [
      "ABC XYZ 19\n"
     ]
    }
   ],
   "source": [
    "a = Emp(\"ABC\",\"XYZ\",19)\n",
    "a.printt()"
   ]
  },
  {
   "cell_type": "code",
   "execution_count": 11,
   "metadata": {},
   "outputs": [
    {
     "name": "stdout",
     "output_type": "stream",
     "text": [
      "Goaarrr\n",
      "Woof woof\n"
     ]
    }
   ],
   "source": [
    "# polymorphism\n",
    "class Bear():\n",
    "    def sound(self):\n",
    "        print(\"Goaarrr\")\n",
    "class Dog():\n",
    "    def sound(self):\n",
    "        print(\"Woof woof\")\n",
    "        \n",
    "def make_sound(make):\n",
    "        make.sound()\n",
    "bear = Bear()\n",
    "dog = Dog()\n",
    "make_sound(bear)\n",
    "make_sound(dog)"
   ]
  },
  {
   "cell_type": "code",
   "execution_count": 12,
   "metadata": {},
   "outputs": [],
   "source": [
    "class Emp():\n",
    "    def add(self, *c):\n",
    "        print(sum(c))\n",
    "obj = Emp()"
   ]
  },
  {
   "cell_type": "code",
   "execution_count": 13,
   "metadata": {},
   "outputs": [
    {
     "name": "stdout",
     "output_type": "stream",
     "text": [
      "9\n"
     ]
    }
   ],
   "source": [
    "obj.add(4, 5)"
   ]
  },
  {
   "cell_type": "code",
   "execution_count": 19,
   "metadata": {},
   "outputs": [],
   "source": [
    "class Emp():\n",
    "    def overloading(self, i = None):\n",
    "        if i is None:\n",
    "            print(\"First form\")\n",
    "        else:\n",
    "            print(\"Second form\")"
   ]
  },
  {
   "cell_type": "code",
   "execution_count": 20,
   "metadata": {},
   "outputs": [],
   "source": [
    "ob = Emp()"
   ]
  },
  {
   "cell_type": "code",
   "execution_count": 22,
   "metadata": {},
   "outputs": [
    {
     "name": "stdout",
     "output_type": "stream",
     "text": [
      "Second form\n"
     ]
    }
   ],
   "source": [
    "ob.overloading(2)"
   ]
  },
  {
   "cell_type": "code",
   "execution_count": 29,
   "metadata": {},
   "outputs": [],
   "source": [
    "# Encapsulation\n",
    "class Baba():\n",
    "    def __init__(self, name, fname):\n",
    "        self.__name = name\n",
    "        self.__fname = fname\n",
    "    def display(self):\n",
    "        print(self._Baba__name, self._Baba__fname)\n",
    "    def setValues(self, name, fname):\n",
    "        self.__name = name\n",
    "        self.__fname = fname\n",
    "    def __greeting(self):\n",
    "        print(\"Hello World\")"
   ]
  },
  {
   "cell_type": "code",
   "execution_count": 30,
   "metadata": {},
   "outputs": [],
   "source": [
    "ob1 = Baba(\"Nabeel\", \"Iqbal\")"
   ]
  },
  {
   "cell_type": "code",
   "execution_count": 31,
   "metadata": {},
   "outputs": [
    {
     "data": {
      "text/plain": [
       "'Iqbal'"
      ]
     },
     "execution_count": 31,
     "metadata": {},
     "output_type": "execute_result"
    }
   ],
   "source": [
    "ob1._Baba__fname"
   ]
  },
  {
   "cell_type": "code",
   "execution_count": 32,
   "metadata": {},
   "outputs": [
    {
     "name": "stdout",
     "output_type": "stream",
     "text": [
      "Nabeel Iqbal\n"
     ]
    }
   ],
   "source": [
    "ob1.display()"
   ]
  },
  {
   "cell_type": "code",
   "execution_count": 33,
   "metadata": {},
   "outputs": [],
   "source": [
    "ob1.setValues(\"sameer\", \"saleem\")"
   ]
  },
  {
   "cell_type": "code",
   "execution_count": 34,
   "metadata": {},
   "outputs": [
    {
     "name": "stdout",
     "output_type": "stream",
     "text": [
      "sameer saleem\n"
     ]
    }
   ],
   "source": [
    "ob1.display()"
   ]
  },
  {
   "cell_type": "code",
   "execution_count": 35,
   "metadata": {},
   "outputs": [
    {
     "name": "stdout",
     "output_type": "stream",
     "text": [
      "Hello World\n"
     ]
    }
   ],
   "source": [
    "ob1._Baba__greeting()"
   ]
  },
  {
   "cell_type": "code",
   "execution_count": 36,
   "metadata": {},
   "outputs": [],
   "source": [
    "from abc import ABC, abstractmethod\n",
    "class Human(ABC):\n",
    "    @abstractmethod\n",
    "    def __init__(self, name, fname):\n",
    "        self.name = name\n",
    "        self.fname = fname\n",
    "    def display(self):\n",
    "        print(self.name, self.fname)"
   ]
  },
  {
   "cell_type": "code",
   "execution_count": 41,
   "metadata": {},
   "outputs": [],
   "source": [
    "class Male(Human):\n",
    "    def __init__(self, name, fname):\n",
    "        self.name = name\n",
    "        self.fname = fname\n",
    "    def greet(self):\n",
    "        print(\"Hello World\")"
   ]
  },
  {
   "cell_type": "code",
   "execution_count": 42,
   "metadata": {},
   "outputs": [],
   "source": [
    "obj2 = Male(\"Sameer\", \"Saleem\")"
   ]
  },
  {
   "cell_type": "code",
   "execution_count": 43,
   "metadata": {},
   "outputs": [
    {
     "name": "stdout",
     "output_type": "stream",
     "text": [
      "Sameer Saleem\n"
     ]
    }
   ],
   "source": [
    "obj2.display()"
   ]
  },
  {
   "cell_type": "code",
   "execution_count": 44,
   "metadata": {},
   "outputs": [
    {
     "name": "stdout",
     "output_type": "stream",
     "text": [
      "Hello World\n"
     ]
    }
   ],
   "source": [
    "obj2.greet()"
   ]
  },
  {
   "cell_type": "code",
   "execution_count": null,
   "metadata": {},
   "outputs": [],
   "source": []
  }
 ],
 "metadata": {
  "kernelspec": {
   "display_name": "Python 3",
   "language": "python",
   "name": "python3"
  },
  "language_info": {
   "codemirror_mode": {
    "name": "ipython",
    "version": 3
   },
   "file_extension": ".py",
   "mimetype": "text/x-python",
   "name": "python",
   "nbconvert_exporter": "python",
   "pygments_lexer": "ipython3",
   "version": "3.7.1"
  }
 },
 "nbformat": 4,
 "nbformat_minor": 2
}
